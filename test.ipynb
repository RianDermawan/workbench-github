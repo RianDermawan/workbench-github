{
 "cells": [
  {
   "cell_type": "code",
   "execution_count": null,
   "id": "0c9921b1-dee6-45f7-a69e-148cca875e49",
   "metadata": {},
   "outputs": [],
   "source": [
    "print('''\n",
    "Ini adalah file contoh untuk melakukan commit ke repository Github\n",
    "''')"
   ]
  }
 ],
 "metadata": {
  "environment": {
   "kernel": "conda-base-py",
   "name": "workbench-notebooks.m123",
   "type": "gcloud",
   "uri": "us-docker.pkg.dev/deeplearning-platform-release/gcr.io/workbench-notebooks:m123"
  },
  "kernelspec": {
   "display_name": "Python 3 (ipykernel) (Local)",
   "language": "python",
   "name": "conda-base-py"
  },
  "language_info": {
   "codemirror_mode": {
    "name": "ipython",
    "version": 3
   },
   "file_extension": ".py",
   "mimetype": "text/x-python",
   "name": "python",
   "nbconvert_exporter": "python",
   "pygments_lexer": "ipython3",
   "version": "3.10.14"
  }
 },
 "nbformat": 4,
 "nbformat_minor": 5
}
